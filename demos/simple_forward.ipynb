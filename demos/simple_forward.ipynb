{
 "cells": [
  {
   "cell_type": "markdown",
   "id": "d356eee6-6920-4ffc-b9f3-429a0d7cb70c",
   "metadata": {},
   "source": [
    "# Simple forward evaluation\n",
    "\n",
    "This example shows how the emulator can be used to simply emulate an action potential from given maximum conductances.\n",
    "\n",
    "We start by loading the data (maximum conductances, time $t$ and APs $V_m(t)$) and  from our dataset #1 (some is provided with this repository)."
   ]
  },
  {
   "cell_type": "code",
   "execution_count": null,
   "id": "ecab0cac-1cb3-4ed5-85dd-454c343dcedd",
   "metadata": {},
   "outputs": [],
   "source": [
    "import pandas as pd\n",
    "\n",
    "max_conds = pd.read_csv(\"data/syn/max_conds.csv\")\n",
    "max_conds"
   ]
  },
  {
   "cell_type": "markdown",
   "id": "d4f095b2-7477-4b00-8c34-b1d3ba147f4a",
   "metadata": {},
   "source": [
    "For each maximum conductance, we can also visualize its simulated AP which we want to closely reconstruct with our emulator. For this, we load the emulator and simply emulate the APs and compare it against the simulated APs."
   ]
  },
  {
   "cell_type": "code",
   "execution_count": null,
   "id": "bbc17b22-9104-4473-975e-f10e2c9c2f1a",
   "metadata": {},
   "outputs": [],
   "source": [
    "import numpy as np\n",
    "\n",
    "ap_data = np.load(\"data/syn/ap_data.npz\")\n",
    "t, aps_sim = ap_data[\"t\"], ap_data[\"aps\"]"
   ]
  },
  {
   "cell_type": "code",
   "execution_count": null,
   "id": "4edb1f26-098d-461b-9c4c-633908e2a74e",
   "metadata": {},
   "outputs": [],
   "source": [
    "from cardiomyocyte_emulator import load_default_emulator_model\n",
    "emulator = load_default_emulator_model(device=\"cpu\")\n",
    "aps_emu = emulator.forward_latent_np(t, max_conds.to_numpy())"
   ]
  },
  {
   "cell_type": "code",
   "execution_count": null,
   "id": "9b315894-b4cf-494b-a2c9-808a0d66ef44",
   "metadata": {
    "nbsphinx-thumbnail": {}
   },
   "outputs": [],
   "source": [
    "import matplotlib.pyplot as plt\n",
    "plt.figure()\n",
    "sim_hs = plt.plot(t, aps_sim.T, color=\"r\", linestyle=\"--\", alpha=0.5)\n",
    "emu_hs = plt.plot(t, aps_emu.T, color=\"k\", alpha=0.5)\n",
    "plt.xlim(-10, 550)\n",
    "plt.legend([sim_hs[0], emu_hs[0]], [\"Simulated\", \"Emulated\"])\n",
    "plt.show()"
   ]
  },
  {
   "cell_type": "markdown",
   "id": "bad84005-ea1d-4650-b8c8-8dc6a8b5ac51",
   "metadata": {},
   "source": [
    "## Early after depolarizations (EADs)\n",
    "\n",
    "EADs can similarly be handled with the only difference being the specific maximum conductances needed to create them. Emulating EADs is a much more difficult task and will significantly reduce reconstruction accuracy."
   ]
  },
  {
   "cell_type": "code",
   "execution_count": null,
   "id": "d176da32-46d1-40a6-b757-2532226288c7",
   "metadata": {},
   "outputs": [],
   "source": [
    "max_conds = pd.read_csv(\"data/ead/max_conds.csv\")\n",
    "max_conds"
   ]
  },
  {
   "cell_type": "code",
   "execution_count": null,
   "id": "ec1f661b-0a8f-4629-9a84-cc6e0f3b8efb",
   "metadata": {},
   "outputs": [],
   "source": [
    "ap_data = np.load(\"data/ead/ap_data.npz\")\n",
    "t, aps_sim = ap_data[\"t\"], ap_data[\"aps\"]\n",
    "\n",
    "aps_emu = emulator.forward_latent_np(t, max_conds.to_numpy())\n",
    "\n",
    "plt.figure()\n",
    "sim_hs = plt.plot(t, aps_sim.T, color=\"r\", linestyle=\"--\", alpha=0.5)\n",
    "emu_hs = plt.plot(t, aps_emu.T, color=\"k\", alpha=0.5)\n",
    "plt.xlim(-10, 1000)\n",
    "plt.legend([sim_hs[0], emu_hs[0]], [\"Simulated\", \"Emulated\"])\n",
    "plt.show()"
   ]
  }
 ],
 "metadata": {
  "kernelspec": {
   "display_name": "Python 3 (ipykernel)",
   "language": "python",
   "name": "python3"
  },
  "language_info": {
   "codemirror_mode": {
    "name": "ipython",
    "version": 3
   },
   "file_extension": ".py",
   "mimetype": "text/x-python",
   "name": "python",
   "nbconvert_exporter": "python",
   "pygments_lexer": "ipython3",
   "version": "3.10.12"
  }
 },
 "nbformat": 4,
 "nbformat_minor": 5
}
