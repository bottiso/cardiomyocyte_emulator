{
 "cells": [
  {
   "cell_type": "markdown",
   "id": "f123db84-696f-42d6-af21-75d43d62ea38",
   "metadata": {},
   "source": [
    "# Inverse estimation\n",
    "\n",
    "In many cases, one is interested in finding the maximum conductances from a given AP, a problem we refer to as the inverse problem. The package also provides a simple way to achieve this by using the function [`match_Vm`](/docs/match_Vm.html). For further details on the computations, please consult our full paper.\n",
    "\n",
    "Like in the [simple forward problem](/demos/simple_forward.html), we start by loading a synthetic APs, but assume the maximum conductance to be unknown. Note that the maximum conductance of the samples are *not* included in the training set."
   ]
  },
  {
   "cell_type": "code",
   "execution_count": null,
   "id": "1e456d8d-f2ca-44c4-a71c-c41c39cf6f60",
   "metadata": {},
   "outputs": [],
   "source": [
    "import numpy as np\n",
    "\n",
    "ap_data = np.load(\"data/syn/ap_data.npz\")\n",
    "t, aps_sim = ap_data[\"t\"], ap_data[\"aps\"]\n",
    "target_ap_ind = 2\n",
    "mask = t < 550\n",
    "t, aps_sim = t[mask], aps_sim[:, mask]\n",
    "target_ap = aps_sim[target_ap_ind]"
   ]
  },
  {
   "cell_type": "code",
   "execution_count": null,
   "id": "237110cb-405b-46cf-add7-7bed5ddec902",
   "metadata": {},
   "outputs": [],
   "source": [
    "from cardiomyocyte_emulator import load_default_emulator_model\n",
    "from cardiomyocyte_emulator.inverse import match_Vm\n",
    "\n",
    "emulator = load_default_emulator_model(device=\"cpu\")\n",
    "weights = None #np.where((t > -2) & (t < 50), 10., 1.)\n",
    "max_conds_est, aps_emu = match_Vm(emulator, t, target_ap, epochs=20, weights=weights)"
   ]
  },
  {
   "cell_type": "code",
   "execution_count": null,
   "id": "78157231-1681-48ef-bc48-85a393699120",
   "metadata": {
        "nbsphinx-thumbnail": {
        }
    },
   "outputs": [],
   "source": [
    "import matplotlib.pyplot as plt\n",
    "plt.figure()\n",
    "plt.plot(t, target_ap, color=\"r\", linestyle=\"--\", alpha=0.5, label=\"Simulated target\")\n",
    "plt.plot(t, aps_emu[0], color=\"k\", alpha=0.5, label=\"Emulated found\")\n",
    "plt.xlim(-10, 550)\n",
    "plt.legend()\n",
    "plt.show()"
   ]
  },
  {
   "cell_type": "markdown",
   "id": "a35301dd-aac0-4de0-9944-1be40830fe42",
   "metadata": {},
   "source": [
    "The emulated AP can match the target AP well, but we further receive the maximum conductances that produce the emulated AP which we compare against the true maximum conductances."
   ]
  },
  {
   "cell_type": "code",
   "execution_count": null,
   "id": "bd4f6d49-861f-43df-816d-58aa49ea5200",
   "metadata": {},
   "outputs": [],
   "source": [
    "import pandas as pd\n",
    "max_conds = pd.read_csv(\"data/syn/max_conds.csv\")\n",
    "ap_cond_df = max_conds.iloc[target_ap_ind].to_frame().transpose()\n",
    "ap_cond_df = pd.concat([ap_cond_df, pd.DataFrame(max_conds_est, columns=ap_cond_df.columns)], axis=0)\n",
    "ap_cond_df.index = [\"Ground-truth\", \"Estimated\"]\n",
    "ap_cond_df"
   ]
  },
  {
   "cell_type": "markdown",
   "id": "ed36553c-9da9-4bf3-8bf8-69e59518519a",
   "metadata": {},
   "source": [
    "The mismatch in percent of the training range is given by:"
   ]
  },
  {
   "cell_type": "code",
   "execution_count": null,
   "id": "df433645-04da-4d35-8d99-b2dc9e6c3fa0",
   "metadata": {},
   "outputs": [],
   "source": [
    "mismatch_df = emulator.normalize_max_conds_ranges_np(ap_cond_df.iloc[1]) - emulator.normalize_max_conds_ranges_np(ap_cond_df.iloc[0])\n",
    "mismatch_df = mismatch_df.to_frame().transpose().abs()\n",
    "mismatch_df.index = [\"Relative mismatch\"]\n",
    "mismatch_df"
   ]
  },
  {
   "cell_type": "markdown",
   "id": "dee764f5-bed5-4645-9bdc-a5428d2bfede",
   "metadata": {},
   "source": [
    "## Parallel estimation\n",
    "\n",
    "To better utilize computational resources, such as multi-core CPUs and GPUs, it is also possible to estimate multiple APs in parallel."
   ]
  },
  {
   "cell_type": "code",
   "execution_count": null,
   "id": "94299efb-ad0f-4be2-abba-425bad029de0",
   "metadata": {},
   "outputs": [],
   "source": [
    "max_conds_est, aps_emu = match_Vm(emulator, t, aps_sim, epochs=20, weights=weights)"
   ]
  },
  {
   "cell_type": "code",
   "execution_count": null,
   "id": "83acb624-87a9-4218-b215-5a17b5a2fb5e",
   "metadata": {},
   "outputs": [],
   "source": [
    "plt.figure()\n",
    "sim_hs = plt.plot(t, aps_sim.T, color=\"r\", linestyle=\"--\", alpha=0.5)\n",
    "emu_hs = plt.plot(t, aps_emu.T, color=\"k\", alpha=0.5)\n",
    "plt.xlim(-10, 550)\n",
    "plt.legend([sim_hs[0], emu_hs[0]], [\"Simulated\", \"Emulated\"])\n",
    "plt.show()"
   ]
  },
  {
   "cell_type": "code",
   "execution_count": null,
   "id": "c064e745-cff8-46a9-b6ac-2b3af77cf6a6",
   "metadata": {},
   "outputs": [],
   "source": [
    "max_conds_diff = emulator.normalize_max_conds_ranges_np(max_conds) - emulator.normalize_max_conds_ranges_np(pd.DataFrame(max_conds_est, columns=ap_cond_df.columns))\n",
    "max_conds_err = max_conds_diff.abs().mean(0).to_frame().transpose()\n",
    "max_conds_err.index = [\"Relative mismatch\"]\n",
    "max_conds_err"
   ]
  },
  {
   "cell_type": "code",
   "execution_count": null,
   "id": "8fd75a92-9ce4-49fd-833d-ecdb71bbba2d",
   "metadata": {},
   "outputs": [],
   "source": []
  }
 ],
 "metadata": {
  "kernelspec": {
   "display_name": "Python 3 (ipykernel)",
   "language": "python",
   "name": "python3"
  },
  "language_info": {
   "codemirror_mode": {
    "name": "ipython",
    "version": 3
   },
   "file_extension": ".py",
   "mimetype": "text/x-python",
   "name": "python",
   "nbconvert_exporter": "python",
   "pygments_lexer": "ipython3",
   "version": "3.10.12"
  }
 },
 "nbformat": 4,
 "nbformat_minor": 5
}
